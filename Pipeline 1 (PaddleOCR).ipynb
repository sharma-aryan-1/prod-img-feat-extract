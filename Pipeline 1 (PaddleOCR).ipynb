{
 "cells": [
  {
   "cell_type": "code",
   "execution_count": 1,
   "metadata": {},
   "outputs": [],
   "source": [
    "import pandas as pd\n",
    "import os\n",
    "import cv2\n",
    "import matplotlib.pyplot as plt\n",
    "import tensorflow as tf\n",
    "from PIL import Image\n",
    "import requests\n",
    "\n",
    "import random\n",
    "import tensorflow as tf\n",
    "\n",
    "import numpy as np\n",
    "from paddleocr import PaddleOCR"
   ]
  },
  {
   "cell_type": "markdown",
   "metadata": {},
   "source": [
    "# Dataset"
   ]
  },
  {
   "cell_type": "code",
   "execution_count": 2,
   "metadata": {},
   "outputs": [],
   "source": [
    "DATASET_FOLDER = '../dataset'\n",
    "train = pd.read_csv(os.path.join(DATASET_FOLDER, 'train.csv'))\n",
    "test = pd.read_csv(os.path.join(DATASET_FOLDER, 'test.csv'))\n",
    "sample_test = pd.read_csv(os.path.join(DATASET_FOLDER, 'sample_test.csv'))\n",
    "sample_test_out = pd.read_csv(os.path.join(DATASET_FOLDER, 'sample_test_out.csv'))"
   ]
  },
  {
   "cell_type": "code",
   "execution_count": 3,
   "metadata": {},
   "outputs": [
    {
     "data": {
      "text/html": [
       "<div>\n",
       "<style scoped>\n",
       "    .dataframe tbody tr th:only-of-type {\n",
       "        vertical-align: middle;\n",
       "    }\n",
       "\n",
       "    .dataframe tbody tr th {\n",
       "        vertical-align: top;\n",
       "    }\n",
       "\n",
       "    .dataframe thead th {\n",
       "        text-align: right;\n",
       "    }\n",
       "</style>\n",
       "<table border=\"1\" class=\"dataframe\">\n",
       "  <thead>\n",
       "    <tr style=\"text-align: right;\">\n",
       "      <th></th>\n",
       "      <th>image_link</th>\n",
       "      <th>group_id</th>\n",
       "      <th>entity_name</th>\n",
       "      <th>entity_value</th>\n",
       "    </tr>\n",
       "  </thead>\n",
       "  <tbody>\n",
       "    <tr>\n",
       "      <th>0</th>\n",
       "      <td>https://m.media-amazon.com/images/I/61I9XdN6OF...</td>\n",
       "      <td>748919</td>\n",
       "      <td>item_weight</td>\n",
       "      <td>500.0 gram</td>\n",
       "    </tr>\n",
       "    <tr>\n",
       "      <th>1</th>\n",
       "      <td>https://m.media-amazon.com/images/I/71gSRbyXmo...</td>\n",
       "      <td>916768</td>\n",
       "      <td>item_volume</td>\n",
       "      <td>1.0 cup</td>\n",
       "    </tr>\n",
       "    <tr>\n",
       "      <th>2</th>\n",
       "      <td>https://m.media-amazon.com/images/I/61BZ4zrjZX...</td>\n",
       "      <td>459516</td>\n",
       "      <td>item_weight</td>\n",
       "      <td>0.709 gram</td>\n",
       "    </tr>\n",
       "    <tr>\n",
       "      <th>3</th>\n",
       "      <td>https://m.media-amazon.com/images/I/612mrlqiI4...</td>\n",
       "      <td>459516</td>\n",
       "      <td>item_weight</td>\n",
       "      <td>0.709 gram</td>\n",
       "    </tr>\n",
       "    <tr>\n",
       "      <th>4</th>\n",
       "      <td>https://m.media-amazon.com/images/I/617Tl40LOX...</td>\n",
       "      <td>731432</td>\n",
       "      <td>item_weight</td>\n",
       "      <td>1400 milligram</td>\n",
       "    </tr>\n",
       "    <tr>\n",
       "      <th>...</th>\n",
       "      <td>...</td>\n",
       "      <td>...</td>\n",
       "      <td>...</td>\n",
       "      <td>...</td>\n",
       "    </tr>\n",
       "    <tr>\n",
       "      <th>263854</th>\n",
       "      <td>https://m.media-amazon.com/images/I/612J1R1xHl...</td>\n",
       "      <td>558806</td>\n",
       "      <td>height</td>\n",
       "      <td>5.0 centimetre</td>\n",
       "    </tr>\n",
       "    <tr>\n",
       "      <th>263855</th>\n",
       "      <td>https://m.media-amazon.com/images/I/61Blzh2+28...</td>\n",
       "      <td>470067</td>\n",
       "      <td>height</td>\n",
       "      <td>8.5 inch</td>\n",
       "    </tr>\n",
       "    <tr>\n",
       "      <th>263856</th>\n",
       "      <td>https://m.media-amazon.com/images/I/51MsegDL9V...</td>\n",
       "      <td>204245</td>\n",
       "      <td>height</td>\n",
       "      <td>43.2 centimetre</td>\n",
       "    </tr>\n",
       "    <tr>\n",
       "      <th>263857</th>\n",
       "      <td>https://m.media-amazon.com/images/I/510KhVw4VS...</td>\n",
       "      <td>752266</td>\n",
       "      <td>height</td>\n",
       "      <td>9.1 centimetre</td>\n",
       "    </tr>\n",
       "    <tr>\n",
       "      <th>263858</th>\n",
       "      <td>https://m.media-amazon.com/images/I/51lzTNLQ-6...</td>\n",
       "      <td>416664</td>\n",
       "      <td>height</td>\n",
       "      <td>27.5 centimetre</td>\n",
       "    </tr>\n",
       "  </tbody>\n",
       "</table>\n",
       "<p>263859 rows × 4 columns</p>\n",
       "</div>"
      ],
      "text/plain": [
       "                                               image_link  group_id  \\\n",
       "0       https://m.media-amazon.com/images/I/61I9XdN6OF...    748919   \n",
       "1       https://m.media-amazon.com/images/I/71gSRbyXmo...    916768   \n",
       "2       https://m.media-amazon.com/images/I/61BZ4zrjZX...    459516   \n",
       "3       https://m.media-amazon.com/images/I/612mrlqiI4...    459516   \n",
       "4       https://m.media-amazon.com/images/I/617Tl40LOX...    731432   \n",
       "...                                                   ...       ...   \n",
       "263854  https://m.media-amazon.com/images/I/612J1R1xHl...    558806   \n",
       "263855  https://m.media-amazon.com/images/I/61Blzh2+28...    470067   \n",
       "263856  https://m.media-amazon.com/images/I/51MsegDL9V...    204245   \n",
       "263857  https://m.media-amazon.com/images/I/510KhVw4VS...    752266   \n",
       "263858  https://m.media-amazon.com/images/I/51lzTNLQ-6...    416664   \n",
       "\n",
       "        entity_name     entity_value  \n",
       "0       item_weight       500.0 gram  \n",
       "1       item_volume          1.0 cup  \n",
       "2       item_weight       0.709 gram  \n",
       "3       item_weight       0.709 gram  \n",
       "4       item_weight   1400 milligram  \n",
       "...             ...              ...  \n",
       "263854       height   5.0 centimetre  \n",
       "263855       height         8.5 inch  \n",
       "263856       height  43.2 centimetre  \n",
       "263857       height   9.1 centimetre  \n",
       "263858       height  27.5 centimetre  \n",
       "\n",
       "[263859 rows x 4 columns]"
      ]
     },
     "execution_count": 3,
     "metadata": {},
     "output_type": "execute_result"
    }
   ],
   "source": [
    "train"
   ]
  },
  {
   "cell_type": "markdown",
   "metadata": {},
   "source": [
    "## Seperate unique classes"
   ]
  },
  {
   "cell_type": "code",
   "execution_count": 4,
   "metadata": {},
   "outputs": [
    {
     "data": {
      "text/plain": [
       "750"
      ]
     },
     "execution_count": 4,
     "metadata": {},
     "output_type": "execute_result"
    }
   ],
   "source": [
    "len(train['group_id'].unique())"
   ]
  },
  {
   "cell_type": "code",
   "execution_count": 5,
   "metadata": {},
   "outputs": [
    {
     "data": {
      "text/html": [
       "<div>\n",
       "<style scoped>\n",
       "    .dataframe tbody tr th:only-of-type {\n",
       "        vertical-align: middle;\n",
       "    }\n",
       "\n",
       "    .dataframe tbody tr th {\n",
       "        vertical-align: top;\n",
       "    }\n",
       "\n",
       "    .dataframe thead th {\n",
       "        text-align: right;\n",
       "    }\n",
       "</style>\n",
       "<table border=\"1\" class=\"dataframe\">\n",
       "  <thead>\n",
       "    <tr style=\"text-align: right;\">\n",
       "      <th></th>\n",
       "      <th>image_link</th>\n",
       "      <th>group_id</th>\n",
       "      <th>entity_name</th>\n",
       "      <th>entity_value</th>\n",
       "    </tr>\n",
       "  </thead>\n",
       "  <tbody>\n",
       "    <tr>\n",
       "      <th>0</th>\n",
       "      <td>https://m.media-amazon.com/images/I/61I9XdN6OF...</td>\n",
       "      <td>748919</td>\n",
       "      <td>item_weight</td>\n",
       "      <td>500.0 gram</td>\n",
       "    </tr>\n",
       "    <tr>\n",
       "      <th>1</th>\n",
       "      <td>https://m.media-amazon.com/images/I/71gSRbyXmo...</td>\n",
       "      <td>916768</td>\n",
       "      <td>item_volume</td>\n",
       "      <td>1.0 cup</td>\n",
       "    </tr>\n",
       "    <tr>\n",
       "      <th>2</th>\n",
       "      <td>https://m.media-amazon.com/images/I/61BZ4zrjZX...</td>\n",
       "      <td>459516</td>\n",
       "      <td>item_weight</td>\n",
       "      <td>0.709 gram</td>\n",
       "    </tr>\n",
       "    <tr>\n",
       "      <th>4</th>\n",
       "      <td>https://m.media-amazon.com/images/I/617Tl40LOX...</td>\n",
       "      <td>731432</td>\n",
       "      <td>item_weight</td>\n",
       "      <td>1400 milligram</td>\n",
       "    </tr>\n",
       "    <tr>\n",
       "      <th>10</th>\n",
       "      <td>https://m.media-amazon.com/images/I/81N73b5khV...</td>\n",
       "      <td>149159</td>\n",
       "      <td>item_weight</td>\n",
       "      <td>30.0 kilogram</td>\n",
       "    </tr>\n",
       "    <tr>\n",
       "      <th>...</th>\n",
       "      <td>...</td>\n",
       "      <td>...</td>\n",
       "      <td>...</td>\n",
       "      <td>...</td>\n",
       "    </tr>\n",
       "    <tr>\n",
       "      <th>193004</th>\n",
       "      <td>https://m.media-amazon.com/images/I/61EA91rTGw...</td>\n",
       "      <td>819766</td>\n",
       "      <td>depth</td>\n",
       "      <td>20.0 centimetre</td>\n",
       "    </tr>\n",
       "    <tr>\n",
       "      <th>205213</th>\n",
       "      <td>https://m.media-amazon.com/images/I/51wPH3Euhc...</td>\n",
       "      <td>226428</td>\n",
       "      <td>depth</td>\n",
       "      <td>25.0 inch</td>\n",
       "    </tr>\n",
       "    <tr>\n",
       "      <th>215716</th>\n",
       "      <td>https://m.media-amazon.com/images/I/617PcjKZSi...</td>\n",
       "      <td>841314</td>\n",
       "      <td>depth</td>\n",
       "      <td>6.0 inch</td>\n",
       "    </tr>\n",
       "    <tr>\n",
       "      <th>224716</th>\n",
       "      <td>https://m.media-amazon.com/images/I/611GMw1iTs...</td>\n",
       "      <td>497735</td>\n",
       "      <td>height</td>\n",
       "      <td>25.0 centimetre</td>\n",
       "    </tr>\n",
       "    <tr>\n",
       "      <th>232500</th>\n",
       "      <td>https://m.media-amazon.com/images/I/51rk4Xn-aN...</td>\n",
       "      <td>339406</td>\n",
       "      <td>height</td>\n",
       "      <td>12.8 inch</td>\n",
       "    </tr>\n",
       "  </tbody>\n",
       "</table>\n",
       "<p>750 rows × 4 columns</p>\n",
       "</div>"
      ],
      "text/plain": [
       "                                               image_link  group_id  \\\n",
       "0       https://m.media-amazon.com/images/I/61I9XdN6OF...    748919   \n",
       "1       https://m.media-amazon.com/images/I/71gSRbyXmo...    916768   \n",
       "2       https://m.media-amazon.com/images/I/61BZ4zrjZX...    459516   \n",
       "4       https://m.media-amazon.com/images/I/617Tl40LOX...    731432   \n",
       "10      https://m.media-amazon.com/images/I/81N73b5khV...    149159   \n",
       "...                                                   ...       ...   \n",
       "193004  https://m.media-amazon.com/images/I/61EA91rTGw...    819766   \n",
       "205213  https://m.media-amazon.com/images/I/51wPH3Euhc...    226428   \n",
       "215716  https://m.media-amazon.com/images/I/617PcjKZSi...    841314   \n",
       "224716  https://m.media-amazon.com/images/I/611GMw1iTs...    497735   \n",
       "232500  https://m.media-amazon.com/images/I/51rk4Xn-aN...    339406   \n",
       "\n",
       "        entity_name     entity_value  \n",
       "0       item_weight       500.0 gram  \n",
       "1       item_volume          1.0 cup  \n",
       "2       item_weight       0.709 gram  \n",
       "4       item_weight   1400 milligram  \n",
       "10      item_weight    30.0 kilogram  \n",
       "...             ...              ...  \n",
       "193004        depth  20.0 centimetre  \n",
       "205213        depth        25.0 inch  \n",
       "215716        depth         6.0 inch  \n",
       "224716       height  25.0 centimetre  \n",
       "232500       height        12.8 inch  \n",
       "\n",
       "[750 rows x 4 columns]"
      ]
     },
     "execution_count": 5,
     "metadata": {},
     "output_type": "execute_result"
    }
   ],
   "source": [
    "unique_df = train.drop_duplicates(subset=['group_id'])\n",
    "unique_df"
   ]
  },
  {
   "cell_type": "markdown",
   "metadata": {},
   "source": [
    "## Randomly sample 500 images"
   ]
  },
  {
   "cell_type": "code",
   "execution_count": 6,
   "metadata": {},
   "outputs": [],
   "source": [
    "random_sample = unique_df.sample(n=5, random_state=42)"
   ]
  },
  {
   "cell_type": "code",
   "execution_count": 7,
   "metadata": {},
   "outputs": [],
   "source": [
    "random_sample = random_sample.reset_index(drop=True)"
   ]
  },
  {
   "cell_type": "code",
   "execution_count": 8,
   "metadata": {},
   "outputs": [],
   "source": [
    "random_sample['entity_name'] = random_sample['entity_name'].astype(str)"
   ]
  },
  {
   "cell_type": "code",
   "execution_count": 9,
   "metadata": {},
   "outputs": [
    {
     "data": {
      "text/html": [
       "<div>\n",
       "<style scoped>\n",
       "    .dataframe tbody tr th:only-of-type {\n",
       "        vertical-align: middle;\n",
       "    }\n",
       "\n",
       "    .dataframe tbody tr th {\n",
       "        vertical-align: top;\n",
       "    }\n",
       "\n",
       "    .dataframe thead th {\n",
       "        text-align: right;\n",
       "    }\n",
       "</style>\n",
       "<table border=\"1\" class=\"dataframe\">\n",
       "  <thead>\n",
       "    <tr style=\"text-align: right;\">\n",
       "      <th></th>\n",
       "      <th>image_link</th>\n",
       "      <th>group_id</th>\n",
       "      <th>entity_name</th>\n",
       "      <th>entity_value</th>\n",
       "    </tr>\n",
       "  </thead>\n",
       "  <tbody>\n",
       "    <tr>\n",
       "      <th>0</th>\n",
       "      <td>https://m.media-amazon.com/images/I/61Fg2MSRWg...</td>\n",
       "      <td>735806</td>\n",
       "      <td>width</td>\n",
       "      <td>65.0 millimetre</td>\n",
       "    </tr>\n",
       "    <tr>\n",
       "      <th>1</th>\n",
       "      <td>https://m.media-amazon.com/images/I/61Ew4PaUd8...</td>\n",
       "      <td>202651</td>\n",
       "      <td>width</td>\n",
       "      <td>2.0 inch</td>\n",
       "    </tr>\n",
       "    <tr>\n",
       "      <th>2</th>\n",
       "      <td>https://m.media-amazon.com/images/I/61ihd4f5up...</td>\n",
       "      <td>245959</td>\n",
       "      <td>item_weight</td>\n",
       "      <td>0.65 kilogram</td>\n",
       "    </tr>\n",
       "    <tr>\n",
       "      <th>3</th>\n",
       "      <td>https://m.media-amazon.com/images/I/51XQPejLXk...</td>\n",
       "      <td>242256</td>\n",
       "      <td>width</td>\n",
       "      <td>90.0 centimetre</td>\n",
       "    </tr>\n",
       "    <tr>\n",
       "      <th>4</th>\n",
       "      <td>https://m.media-amazon.com/images/I/51+bXgO3Jh...</td>\n",
       "      <td>640565</td>\n",
       "      <td>width</td>\n",
       "      <td>6.8 centimetre</td>\n",
       "    </tr>\n",
       "  </tbody>\n",
       "</table>\n",
       "</div>"
      ],
      "text/plain": [
       "                                          image_link  group_id  entity_name  \\\n",
       "0  https://m.media-amazon.com/images/I/61Fg2MSRWg...    735806        width   \n",
       "1  https://m.media-amazon.com/images/I/61Ew4PaUd8...    202651        width   \n",
       "2  https://m.media-amazon.com/images/I/61ihd4f5up...    245959  item_weight   \n",
       "3  https://m.media-amazon.com/images/I/51XQPejLXk...    242256        width   \n",
       "4  https://m.media-amazon.com/images/I/51+bXgO3Jh...    640565        width   \n",
       "\n",
       "      entity_value  \n",
       "0  65.0 millimetre  \n",
       "1         2.0 inch  \n",
       "2    0.65 kilogram  \n",
       "3  90.0 centimetre  \n",
       "4   6.8 centimetre  "
      ]
     },
     "execution_count": 9,
     "metadata": {},
     "output_type": "execute_result"
    }
   ],
   "source": [
    "random_sample"
   ]
  },
  {
   "cell_type": "code",
   "execution_count": 10,
   "metadata": {},
   "outputs": [
    {
     "name": "stdout",
     "output_type": "stream",
     "text": [
      "https://m.media-amazon.com/images/I/61Fg2MSRWgL.jpg\n",
      "https://m.media-amazon.com/images/I/61Ew4PaUd8L.jpg\n",
      "https://m.media-amazon.com/images/I/61ihd4f5upL.jpg\n",
      "https://m.media-amazon.com/images/I/51XQPejLXkL.jpg\n",
      "https://m.media-amazon.com/images/I/51+bXgO3JhL.jpg\n"
     ]
    }
   ],
   "source": [
    "for i in range (5):\n",
    "    print(random_sample['image_link'][i])"
   ]
  },
  {
   "cell_type": "markdown",
   "metadata": {},
   "source": [
    "## Get a list of images"
   ]
  },
  {
   "cell_type": "code",
   "execution_count": 11,
   "metadata": {},
   "outputs": [],
   "source": [
    "imgs = []\n",
    "for i in range(5):\n",
    "    imgs.append(Image.open(requests.get(random_sample.iloc[i,:]['image_link'], stream=True).raw).convert('RGB'))"
   ]
  },
  {
   "cell_type": "code",
   "execution_count": 12,
   "metadata": {},
   "outputs": [
    {
     "data": {
      "text/plain": [
       "[<PIL.Image.Image image mode=RGB size=1500x1500>,\n",
       " <PIL.Image.Image image mode=RGB size=1500x1500>,\n",
       " <PIL.Image.Image image mode=RGB size=1600x1600>,\n",
       " <PIL.Image.Image image mode=RGB size=1456x940>,\n",
       " <PIL.Image.Image image mode=RGB size=1002x1002>]"
      ]
     },
     "execution_count": 12,
     "metadata": {},
     "output_type": "execute_result"
    }
   ],
   "source": [
    "imgs"
   ]
  },
  {
   "cell_type": "markdown",
   "metadata": {},
   "source": [
    "## Display images randomly"
   ]
  },
  {
   "cell_type": "code",
   "execution_count": 15,
   "metadata": {},
   "outputs": [
    {
     "name": "stdout",
     "output_type": "stream",
     "text": [
      "5\n",
      "                                          image_link  group_id entity_name  \\\n",
      "5  https://m.media-amazon.com/images/I/51tNTgGggv...    123238       width   \n",
      "\n",
      "      entity_value  \n",
      "5  40.0 centimetre  \n"
     ]
    },
    {
     "data": {
      "image/jpeg": "[encoded data removed]",
      "image/png": "[encoded data removed]",
      "text/plain": [
       "<PIL.Image.Image image mode=RGB size=500x500>"
      ]
     },
     "execution_count": 15,
     "metadata": {},
     "output_type": "execute_result"
    }
   ],
   "source": [
    "num = random.randrange(0, 9)\n",
    "imgnum = num\n",
    "\n",
    "print(num)\n",
    "print(random_sample.iloc[num:num+1])\n",
    "imgs[imgnum].resize((int(imgs[imgnum].size[0]/2), int(imgs[imgnum].size[1]/2)))"
   ]
  },
  {
   "cell_type": "code",
   "execution_count": 16,
   "metadata": {},
   "outputs": [
    {
     "data": {
      "text/plain": [
       "'width'"
      ]
     },
     "execution_count": 16,
     "metadata": {},
     "output_type": "execute_result"
    }
   ],
   "source": [
    "entity_label=random_sample['entity_name'][imgnum]\n",
    "entity_label"
   ]
  },
  {
   "cell_type": "markdown",
   "metadata": {},
   "source": [
    "# ocr"
   ]
  },
  {
   "cell_type": "code",
   "execution_count": 13,
   "metadata": {},
   "outputs": [
    {
     "name": "stdout",
     "output_type": "stream",
     "text": [
      "[2025/03/20 18:11:10] ppocr DEBUG: Namespace(help='==SUPPRESS==', use_gpu=False, use_xpu=False, use_npu=False, use_mlu=False, ir_optim=True, use_tensorrt=False, min_subgraph_size=15, precision='fp32', gpu_mem=500, gpu_id=0, image_dir=None, page_num=0, det_algorithm='DB', det_model_dir='/Users/tanmaykhade/.paddleocr/whl/det/en/en_PP-OCRv3_det_infer', det_limit_side_len=960, det_limit_type='max', det_box_type='quad', det_db_thresh=0.15, det_db_box_thresh=0.6, det_db_unclip_ratio=1.5, max_batch_size=20, use_dilation=False, det_db_score_mode='fast', det_east_score_thresh=0.8, det_east_cover_thresh=0.1, det_east_nms_thresh=0.2, det_sast_score_thresh=0.5, det_sast_nms_thresh=0.2, det_pse_thresh=0, det_pse_box_thresh=0.85, det_pse_min_area=16, det_pse_scale=1, scales=[8, 16, 32], alpha=1.0, beta=1.0, fourier_degree=5, rec_algorithm='SVTR_LCNet', rec_model_dir='/Users/tanmaykhade/.paddleocr/whl/rec/en/en_PP-OCRv4_rec_infer', rec_image_inverse=True, rec_image_shape='3, 48, 320', rec_batch_num=8, max_text_length=50, rec_char_dict_path='/Library/Frameworks/Python.framework/Versions/3.11/lib/python3.11/site-packages/paddleocr/ppocr/utils/en_dict.txt', use_space_char=True, vis_font_path='./doc/fonts/simfang.ttf', drop_score=0.5, e2e_algorithm='PGNet', e2e_model_dir=None, e2e_limit_side_len=768, e2e_limit_type='max', e2e_pgnet_score_thresh=0.5, e2e_char_dict_path='./ppocr/utils/ic15_dict.txt', e2e_pgnet_valid_set='totaltext', e2e_pgnet_mode='fast', use_angle_cls=True, cls_model_dir='C:\\\\Users\\\\ASUS/.paddleocr/whl\\\\cls\\\\ch_ppocr_mobile_v2.0_cls_infer', cls_image_shape='3, 48, 192', label_list=['0', '180'], cls_batch_num=8, cls_thresh=0.9, enable_mkldnn=False, cpu_threads=10, use_pdserving=False, warmup=False, sr_model_dir=None, sr_image_shape='3, 32, 128', sr_batch_num=1, draw_img_save_dir='./inference_results', save_crop_res=False, crop_res_save_dir='./output', use_mp=False, total_process_num=1, process_id=0, benchmark=False, save_log_path='./log_output/', show_log=True, use_onnx=False, return_word_box=False, output='./output', table_max_len=488, table_algorithm='TableAttn', table_model_dir=None, merge_no_span_structure=True, table_char_dict_path=None, formula_algorithm='LaTeXOCR', formula_model_dir=None, formula_char_dict_path=None, formula_batch_num=1, layout_model_dir=None, layout_dict_path=None, layout_score_threshold=0.5, layout_nms_threshold=0.5, kie_algorithm='LayoutXLM', ser_model_dir=None, re_model_dir=None, use_visual_backbone=True, ser_dict_path='../train_data/XFUND/class_list_xfun.txt', ocr_order_method=None, mode='structure', image_orientation=False, layout=True, table=True, formula=True, ocr=True, recovery=False, recovery_to_markdown=True, use_pdf2docx_api=False, invert=False, binarize=False, alphacolor=(255, 255, 255), lang='en', det=True, rec=True, type='ocr', savefile=False, ocr_version='PP-OCRv4', structure_version='PP-StructureV2')\n"
     ]
    }
   ],
   "source": [
    "ocr = PaddleOCR(\n",
    "    lang = 'en',\n",
    "    use_angle_cls=True,  # Enable angle classifier\n",
    "    cls_model_dir='C:\\\\Users\\\\ASUS/.paddleocr/whl\\\\cls\\\\ch_ppocr_mobile_v2.0_cls_infer',  # Path to angle classifier model\n",
    "    use_gpu=True,  # Enable GPU\n",
    "    det_db_unclip_ratio=1.5,  # Adjust detection parameters\n",
    "    det_db_thresh=0.15,\n",
    "    rec_image_shape='3, 48, 480',  # Adjust recognition parameters\n",
    "    max_text_length=50,\n",
    "    max_batch_size=20,  # Adjust batch size\n",
    "    rec_batch_num=8,\n",
    "    cls_batch_num=8,\n",
    "    ocr_version='PP-OCRv4',  # Use PP-OCRv4\n",
    "    layout=True,  # Enable layout analysis\n",
    "    table=True,  # Enable table recognition\n",
    "    formula=True,  # Enable formula recognition\n",
    "    recovery_to_markdown=True  # Enable recovery to Markdown\n",
    ")\n"
   ]
  },
  {
   "cell_type": "code",
   "execution_count": null,
   "metadata": {},
   "outputs": [
    {
     "name": "stdout",
     "output_type": "stream",
     "text": [
      "[2025/03/20 18:18:28] ppocr DEBUG: dt_boxes num : 14, elapsed : 0.6166539192199707\n",
      "[2025/03/20 18:18:28] ppocr DEBUG: cls num  : 14, elapsed : 0.10501909255981445\n",
      "[2025/03/20 18:18:29] ppocr DEBUG: rec_res num  : 14, elapsed : 1.2958340644836426\n",
      "Text: Product Details \t\t\t\tConfidence: 0.9838790893554688\n",
      "Text: 18mm \t\t\t\tConfidence: 0.9998377561569214\n",
      "Text: 18.5mm \t\t\t\tConfidence: 0.9998447299003601\n",
      "Text: 4.9mm \t\t\t\tConfidence: 0.9985502362251282\n",
      "Text: 12.1mm \t\t\t\tConfidence: 0.9997598528862\n",
      "Text: 7.7mm \t\t\t\tConfidence: 0.9975045919418335\n",
      "Text: 9mm \t\t\t\tConfidence: 0.9991226196289062\n",
      "Text: 65mm \t\t\t\tConfidence: 0.9993704557418823\n",
      "Text: 39mm \t\t\t\tConfidence: 0.9998336434364319\n",
      "Text: 7.mm \t\t\t\tConfidence: 0.99753338098526\n",
      "Text: 5mm \t\t\t\tConfidence: 0.9988319277763367\n",
      "Text: 25mm \t\t\t\tConfidence: 0.9992637634277344\n",
      "Text: 4.5mm \t\t\t\tConfidence: 0.9982776641845703\n",
      "Text: 5mm \t\t\t\tConfidence: 0.9991437792778015\n",
      "Text: Product Details ; Confidence: 0.9838790893554688\n",
      "Text: 18mm ; Confidence: 0.9998377561569214\n",
      "Text: 18.5mm ; Confidence: 0.9998447299003601\n",
      "Text: 4.9mm ; Confidence: 0.9985502362251282\n",
      "Text: 12.1mm ; Confidence: 0.9997598528862\n",
      "Text: 7.7mm ; Confidence: 0.9975045919418335\n",
      "Text: 9mm ; Confidence: 0.9991226196289062\n",
      "Text: 65mm ; Confidence: 0.9993704557418823\n",
      "Text: 39mm ; Confidence: 0.9998336434364319\n",
      "Text: 7.mm ; Confidence: 0.99753338098526\n",
      "Text: 5mm ; Confidence: 0.9988319277763367\n",
      "Text: 25mm ; Confidence: 0.9992637634277344\n",
      "Text: 4.5mm ; Confidence: 0.9982776641845703\n",
      "Text: 5mm ; Confidence: 0.9991437792778015\n",
      "[2025/03/20 18:18:30] ppocr DEBUG: dt_boxes num : 5, elapsed : 0.45749998092651367\n",
      "[2025/03/20 18:18:30] ppocr DEBUG: cls num  : 5, elapsed : 0.03725600242614746\n",
      "[2025/03/20 18:18:31] ppocr DEBUG: rec_res num  : 5, elapsed : 0.8535761833190918\n",
      "Text: SWONO \t\t\t\tConfidence: 0.9912924766540527\n",
      "Text: 2 \t\t\t\tConfidence: 0.9936254024505615\n",
      "Text: DEFEAT EVIL \t\t\t\tConfidence: 0.9643812775611877\n",
      "Text: Will fit2'receivers \t\t\t\tConfidence: 0.9446876049041748\n",
      "Text: ATSAST \t\t\t\tConfidence: 0.6130615472793579\n",
      "Text: SWONO ; Confidence: 0.9912924766540527\n",
      "Text: 2 ; Confidence: 0.9936254024505615\n",
      "Text: DEFEAT EVIL ; Confidence: 0.9643812775611877\n",
      "Text: Will fit2'receivers ; Confidence: 0.9446876049041748\n",
      "Text: ATSAST ; Confidence: 0.6130615472793579\n",
      "[2025/03/20 18:18:31] ppocr DEBUG: dt_boxes num : 12, elapsed : 0.46547508239746094\n",
      "[2025/03/20 18:18:31] ppocr DEBUG: cls num  : 12, elapsed : 0.07614922523498535\n",
      "[2025/03/20 18:18:32] ppocr DEBUG: rec_res num  : 12, elapsed : 1.0944831371307373\n",
      "Text: Product parameters \t\t\t\tConfidence: 0.9999135136604309\n",
      "Text: 35cm \t\t\t\tConfidence: 0.9996079802513123\n",
      "Text: 0.65KG \t\t\t\tConfidence: 0.9996280670166016\n",
      "Text: 13.65inch \t\t\t\tConfidence: 0.9998887181282043\n",
      "Text: DOcean Pearl \t\t\t\tConfidence: 0.8641302585601807\n",
      "Text: restaurant \t\t\t\tConfidence: 0.9420294761657715\n",
      "Text: SELOR \t\t\t\tConfidence: 0.7723270058631897\n",
      "Text: SURFACE \t\t\t\tConfidence: 0.9948593974113464\n",
      "Text: 19cm \t\t\t\tConfidence: 0.9998574256896973\n",
      "Text: 41cm H \t\t\t\tConfidence: 0.9599637985229492\n",
      "Text: 7.41inch \t\t\t\tConfidence: 0.9999258518218994\n",
      "Text: 15.99inch \t\t\t\tConfidence: 0.9809589385986328\n",
      "Text: Product parameters ; Confidence: 0.9999135136604309\n",
      "Text: 35cm ; Confidence: 0.9996079802513123\n",
      "Text: 0.65KG ; Confidence: 0.9996280670166016\n",
      "Text: 13.65inch ; Confidence: 0.9998887181282043\n",
      "Text: DOcean Pearl ; Confidence: 0.8641302585601807\n",
      "Text: restaurant ; Confidence: 0.9420294761657715\n",
      "Text: SELOR ; Confidence: 0.7723270058631897\n",
      "Text: SURFACE ; Confidence: 0.9948593974113464\n",
      "Text: 19cm ; Confidence: 0.9998574256896973\n",
      "Text: 41cm H ; Confidence: 0.9599637985229492\n",
      "Text: 7.41inch ; Confidence: 0.9999258518218994\n",
      "Text: 15.99inch ; Confidence: 0.9809589385986328\n",
      "[2025/03/20 18:18:32] ppocr DEBUG: dt_boxes num : 4, elapsed : 0.3036620616912842\n",
      "[2025/03/20 18:18:33] ppocr DEBUG: cls num  : 4, elapsed : 0.030313968658447266\n",
      "[2025/03/20 18:18:33] ppocr DEBUG: rec_res num  : 4, elapsed : 0.2975192070007324\n",
      "Text: 150cm/5ft \t\t\t\tConfidence: 0.9998028874397278\n",
      "Text: 90cm/3ft \t\t\t\tConfidence: 0.9991694688796997\n",
      "Text: TAYLOR \t\t\t\tConfidence: 0.9962518811225891\n",
      "Text: 150cm/5ft ; Confidence: 0.9998028874397278\n",
      "Text: 90cm/3ft ; Confidence: 0.9991694688796997\n",
      "Text: TAYLOR ; Confidence: 0.9962518811225891\n",
      "[2025/03/20 18:18:33] ppocr DEBUG: dt_boxes num : 2, elapsed : 0.4096999168395996\n",
      "[2025/03/20 18:18:33] ppocr DEBUG: cls num  : 2, elapsed : 0.0231170654296875\n",
      "[2025/03/20 18:18:33] ppocr DEBUG: rec_res num  : 2, elapsed : 0.16570687294006348\n",
      "Text: 0.9cm/0.35inch \t\t\t\tConfidence: 0.962801992893219\n",
      "Text: 6.8cm/2.67inch \t\t\t\tConfidence: 0.9981715083122253\n",
      "Text: 0.9cm/0.35inch ; Confidence: 0.962801992893219\n",
      "Text: 6.8cm/2.67inch ; Confidence: 0.9981715083122253\n",
      "Execution time: 1.2616 seconds\n"
     ]
    }
   ],
   "source": [
    "results = []\n",
    "for j in range (10):\n",
    "    result = ocr.ocr(np.array(imgs[j]))\n",
    "    results.append(result)\n",
    "    for i, name in enumerate(result[0]):\n",
    "        print(\"Text:\", name[1][0], \"\\t\\t\\t\\tConfidence:\", name[1][1])"
   ]
  },
  {
   "cell_type": "code",
   "execution_count": 174,
   "metadata": {},
   "outputs": [
    {
     "data": {
      "text/plain": [
       "['cecotec', '18:00', 'cm', '63 cm', '60 cm']"
      ]
     },
     "execution_count": 174,
     "metadata": {},
     "output_type": "execute_result"
    }
   ],
   "source": [
    "#T\n",
    "extracted_texts = [entry[1][0] for entry in results[6][0]]\n",
    "extracted_texts"
   ]
  },
  {
   "cell_type": "markdown",
   "metadata": {},
   "source": [
    "# regex"
   ]
  },
  {
   "cell_type": "code",
   "execution_count": 14,
   "metadata": {},
   "outputs": [],
   "source": [
    "import re\n",
    "from constants import entity_unit_map"
   ]
  },
  {
   "cell_type": "code",
   "execution_count": 18,
   "metadata": {},
   "outputs": [],
   "source": [
    "conversion_dict = {\n",
    "    # ---------------------------------------------------------------\n",
    "    # Multi-character units (longest first to prevent partial matches)\n",
    "    # ---------------------------------------------------------------\n",
    "    # Length/Distance\n",
    "    r'(?<=\\d)cubic in\\b': ' cubic inch',\n",
    "    r'(?<=\\d)cubic ft\\b': ' cubic foot',\n",
    "    r'(?<=\\d)millimetre\\b': ' millimetre',  # Explicit full-word matches\n",
    "    r'(?<=\\d)centimetre\\b': ' centimetre',\n",
    "    r'(?<=\\d)imp gal\\b': ' imperial gallon',\n",
    "    r'(?<=\\d)fl oz\\b': ' fluid ounce',\n",
    "    r'(?<=\\d)mm\\b': ' millimetre',\n",
    "    r'(?<=\\d)cm\\b': ' centimetre',\n",
    "    r'(?<=\\d)ft\\b': ' foot',\n",
    "    r'(?<=\\d)yd\\b': ' yard',\n",
    "    r'(?<=\\d)in\\b': ' inch',\n",
    "    r'(?<=\\d)inch\\b': ' inch',\n",
    "\n",
    "    # Weight/Mass\n",
    "    r'(?<=\\d)kilogram\\b': ' kilogram',\n",
    "    r'(?<=\\d)milligram\\b': ' milligram',\n",
    "    r'(?<=\\d)microgram\\b': ' microgram',\n",
    "    r'(?<=\\d)kg\\b': ' kilogram',\n",
    "    r'(?<=\\d)mg\\b': ' milligram',\n",
    "    r'(?<=\\d)µg\\b': ' microgram',\n",
    "    r'(?<=\\d)oz\\b': ' ounce',\n",
    "    r'(?<=\\d)lb\\b': ' pound',\n",
    "\n",
    "    # Voltage\n",
    "    r'(?<=\\d)kilovolt\\b': ' kilovolt',\n",
    "    r'(?<=\\d)millivolt\\b': ' millivolt',\n",
    "    r'(?<=\\d)kV\\b': ' kilovolt',\n",
    "    r'(?<=\\d)mV\\b': ' millivolt',\n",
    "    r'(?<=\\d)V\\b': ' volt',\n",
    "\n",
    "    # Wattage\n",
    "    r'(?<=\\d)kilowatt\\b': ' kilowatt',\n",
    "    r'(?<=\\d)kW\\b': ' kilowatt',\n",
    "    r'(?<=\\d)W\\b': ' watt',\n",
    "\n",
    "    # Volume\n",
    "    r'(?<=\\d)microlitre\\b': ' microlitre',\n",
    "    r'(?<=\\d)millilitre\\b': ' millilitre',\n",
    "    r'(?<=\\d)centilitre\\b': ' centilitre',\n",
    "    r'(?<=\\d)decilitre\\b': ' decilitre',\n",
    "    r'(?<=\\d)µl\\b': ' microlitre',\n",
    "    r'(?<=\\d)ml\\b': ' millilitre',\n",
    "    r'(?<=\\d)cl\\b': ' centilitre',\n",
    "    r'(?<=\\d)dl\\b': ' decilitre',\n",
    "    r'(?<=\\d)gal\\b': ' gallon',\n",
    "    r'(?<=\\d)pint\\b': ' pint',\n",
    "    r'(?<=\\d)quart\\b': ' quart',\n",
    "    r'(?<=\\d)cup\\b': ' cup',\n",
    "\n",
    "    # ---------------------------------------------------------------\n",
    "    # Single-character units (handle last to prevent conflicts)\n",
    "    # ---------------------------------------------------------------\n",
    "    # Length/Distance\n",
    "    r'(?<=\\d)m\\b': ' metre',  # Only matches when preceded by digit\n",
    "    \n",
    "    # Weight/Mass\n",
    "    r'(?<=\\d)g\\b': ' gram',\n",
    "    r'(?<=\\d)ton\\b': ' ton',\n",
    "    \n",
    "    # Volume\n",
    "    r'(?<=\\d)l\\b': ' litre',\n",
    "}"
   ]
  },
  {
   "cell_type": "code",
   "execution_count": 16,
   "metadata": {},
   "outputs": [
    {
     "ename": "NameError",
     "evalue": "name 'results' is not defined",
     "output_type": "error",
     "traceback": [
      "\u001b[0;31m---------------------------------------------------------------------------\u001b[0m",
      "\u001b[0;31mNameError\u001b[0m                                 Traceback (most recent call last)",
      "Cell \u001b[0;32mIn[16], line 5\u001b[0m\n\u001b[1;32m      2\u001b[0m \u001b[38;5;28;01mfor\u001b[39;00m j \u001b[38;5;129;01min\u001b[39;00m \u001b[38;5;28mrange\u001b[39m(\u001b[38;5;241m10\u001b[39m):\n\u001b[1;32m      3\u001b[0m     editted_text \u001b[38;5;241m=\u001b[39m []\n\u001b[0;32m----> 5\u001b[0m     \u001b[38;5;28;01mfor\u001b[39;00m i, name \u001b[38;5;129;01min\u001b[39;00m \u001b[38;5;28menumerate\u001b[39m(\u001b[43mresults\u001b[49m[j][\u001b[38;5;241m0\u001b[39m]):\n\u001b[1;32m      6\u001b[0m         original_text \u001b[38;5;241m=\u001b[39m name[\u001b[38;5;241m1\u001b[39m][\u001b[38;5;241m0\u001b[39m]\n\u001b[1;32m      7\u001b[0m         \u001b[38;5;28mprint\u001b[39m(\u001b[38;5;124m\"\u001b[39m\u001b[38;5;124mText:\u001b[39m\u001b[38;5;124m\"\u001b[39m, original_text, \u001b[38;5;124m\"\u001b[39m\u001b[38;5;124m; Confidence:\u001b[39m\u001b[38;5;124m\"\u001b[39m, name[\u001b[38;5;241m1\u001b[39m][\u001b[38;5;241m1\u001b[39m])\n",
      "\u001b[0;31mNameError\u001b[0m: name 'results' is not defined"
     ]
    }
   ],
   "source": [
    "editted_texts = []\n",
    "for j in range(10):\n",
    "    editted_text = []\n",
    "\n",
    "    for i, name in enumerate(results[j][0]):\n",
    "        original_text = name[1][0]\n",
    "        print(\"Text:\", original_text, \"; Confidence:\", name[1][1])\n",
    "\n",
    "        # Split the text by '/' to handle compound cases like \"150cm/5ft\"\n",
    "        parts = original_text.split('/')\n",
    "\n",
    "        for part in parts:\n",
    "            part = part.strip()  # Remove leading/trailing whitespace\n",
    "            for pattern, replacement in conversion_dict.items():\n",
    "                # Apply substitution to each individual part\n",
    "                ipstr, numrepl = re.subn(pattern, replacement, part)\n",
    "                if numrepl > 0:\n",
    "                    editted_text.append(ipstr)\n",
    "                    break  # Stop after the first successful substitution\n",
    "\n",
    "    editted_texts.append(editted_text)"
   ]
  },
  {
   "cell_type": "code",
   "execution_count": 19,
   "metadata": {},
   "outputs": [],
   "source": [
    "def parse_value_unit(text):\n",
    "    # Split into numerical value and unit (e.g., \"5 foot\" → (5.0, \"foot\"))\n",
    "    parts = text.strip().split()\n",
    "    if not parts:\n",
    "        return None, None\n",
    "    try:\n",
    "        value = float(parts[0])  # Convert to float\n",
    "        unit = \" \".join(parts[1:]).lower()\n",
    "        return value, unit\n",
    "    except ValueError:\n",
    "        return None, None\n",
    "\n",
    "def get_optimal_output(editted_texts_list, entity_name, entity_unit_map):\n",
    "    acceptable_units = entity_unit_map.get(entity_name, set())\n",
    "    candidates = []\n",
    "    \n",
    "    for text in editted_texts_list:\n",
    "        value, unit = parse_value_unit(text)\n",
    "        if value is not None and unit in acceptable_units:\n",
    "            candidates.append((value, unit))\n",
    "    \n",
    "    if candidates:\n",
    "        # Sort by value (descending) and pick the largest\n",
    "        candidates.sort(reverse=True, key=lambda x: x[0])\n",
    "        best_value, best_unit = candidates[0]\n",
    "        # Format value as float with .0 if integer (e.g., 5 → 5.0, 5.5 → 5.5)\n",
    "        return f\"{best_value:.1f} {best_unit}\"  # .1f ensures one decimal place\n",
    "    \n",
    "    # Fallback: \"0.0\" + first acceptable unit\n",
    "    if acceptable_units:\n",
    "        first_unit = next(iter(acceptable_units))\n",
    "        return f\"0.0 {first_unit}\"\n",
    "    return \"0.0\"  # Fallback if no units defined"
   ]
  },
  {
   "cell_type": "code",
   "execution_count": 20,
   "metadata": {},
   "outputs": [],
   "source": [
    "entity_unit_map = {\n",
    "    'width': {'centimetre', 'foot', 'inch', 'metre', 'millimetre', 'yard'},\n",
    "    'depth': {'centimetre', 'foot', 'inch', 'metre', 'millimetre', 'yard'},\n",
    "    'height': {'centimetre', 'foot', 'inch', 'metre', 'millimetre', 'yard'},\n",
    "    'item_weight': {'gram',\n",
    "        'kilogram',\n",
    "        'microgram',\n",
    "        'milligram',\n",
    "        'ounce',\n",
    "        'pound',\n",
    "        'ton'},\n",
    "    'maximum_weight_recommendation': {'gram',\n",
    "        'kilogram',\n",
    "        'microgram',\n",
    "        'milligram',\n",
    "        'ounce',\n",
    "        'pound',\n",
    "        'ton'},\n",
    "    'voltage': {'kilovolt', 'millivolt', 'volt'},\n",
    "    'wattage': {'kilowatt', 'watt'},\n",
    "    'item_volume': {'centilitre',\n",
    "        'cubic foot',\n",
    "        'cubic inch',\n",
    "        'cup',\n",
    "        'decilitre',\n",
    "        'fluid ounce',\n",
    "        'gallon',\n",
    "        'imperial gallon',\n",
    "        'litre',\n",
    "        'microlitre',\n",
    "        'millilitre',\n",
    "        'pint',\n",
    "        'quart'}\n",
    "}"
   ]
  },
  {
   "cell_type": "code",
   "execution_count": 21,
   "metadata": {},
   "outputs": [
    {
     "name": "stdout",
     "output_type": "stream",
     "text": [
      "Requirement already satisfied: editdistance in /Library/Frameworks/Python.framework/Versions/3.11/lib/python3.11/site-packages (0.8.1)\n"
     ]
    }
   ],
   "source": [
    "!pip install editdistance"
   ]
  },
  {
   "cell_type": "code",
   "execution_count": 22,
   "metadata": {},
   "outputs": [],
   "source": [
    "import editdistance\n",
    "\n",
    "def charErrorRate(reference, hypothesis):\n",
    "    edit_distance = editdistance.eval(reference, hypothesis)\n",
    "    return edit_distance / len(reference) if len(reference) > 0 else 0.0"
   ]
  },
  {
   "cell_type": "code",
   "execution_count": 35,
   "metadata": {},
   "outputs": [
    {
     "name": "stdout",
     "output_type": "stream",
     "text": [
      "65.0 millimetre\t65.0 millimetre\t0.0\n",
      "0.0 yard\t2.0 inch\t0.625\n",
      "0.0 kilogram\t0.65 kilogram\t0.16666666666666666\n",
      "150.0 centimetre\t90.0 centimetre\t0.125\n",
      "6.8 centimetre\t6.8 centimetre\t0.0\n",
      "60.0 centimetre\t40.0 centimetre\t0.06666666666666667\n",
      "0.0 yard\t60.0 centimetre\t1.25\n",
      "0.0 kilogram\t108.0 pound\t0.75\n",
      "1340.0 millimetre\t590.0 millimetre\t0.17647058823529413\n",
      "14.0 centimetre\t14.0 centimetre\t0.0\n"
     ]
    }
   ],
   "source": [
    "for i in range(10):\n",
    "    optimal = get_optimal_output(editted_texts[i], random_sample.iloc[i:i+1]['entity_name'][i]  , entity_unit_map)\n",
    "    print(optimal +'\\t'+random_sample.iloc[i:i+1]['entity_value'][i]+'\\t'+str(charErrorRate(optimal, random_sample.iloc[i:i+1]['entity_value'][i])))  # Output: \"150 centimetre\""
   ]
  },
  {
   "cell_type": "code",
   "execution_count": 24,
   "metadata": {},
   "outputs": [
    {
     "name": "stdout",
     "output_type": "stream",
     "text": [
      "Character Error Rate: 0.377\n"
     ]
    }
   ],
   "source": [
    "from jiwer import cer\n",
    "\n",
    "predictions = []\n",
    "references = []\n",
    "\n",
    "for i in range(50):\n",
    "    # Get entity name and actual value from the dataset\n",
    "    entity_name = random_sample.iloc[i]['entity_name']\n",
    "    actual_value = random_sample.iloc[i]['entity_value']\n",
    "    \n",
    "    # Get normalized prediction\n",
    "    optimal_pred = get_optimal_output(editted_texts[i], entity_name, entity_unit_map)\n",
    "    \n",
    "    # Normalize the actual value using the same logic (to match prediction format)\n",
    "    # Example: If actual_value is \"5ft\", normalize to \"5.0 foot\"\n",
    "    actual_normalized = get_optimal_output([actual_value], entity_name, entity_unit_map)\n",
    "    \n",
    "    predictions.append(optimal_pred)\n",
    "    references.append(actual_normalized)\n",
    "\n",
    "# Calculate CER\n",
    "cer_score = cer(references, predictions)\n",
    "print(f\"Character Error Rate: {cer_score:.3f}\")"
   ]
  },
  {
   "cell_type": "markdown",
   "metadata": {},
   "source": [
    "**Roberta**"
   ]
  },
  {
   "cell_type": "code",
   "execution_count": 28,
   "metadata": {},
   "outputs": [],
   "source": [
    "input_text = \"Extract the {} from the following text: {}\".format(\n",
    "    entity_label, \" \".join(extracted_texts)\n",
    ")"
   ]
  },
  {
   "cell_type": "code",
   "execution_count": 29,
   "metadata": {},
   "outputs": [
    {
     "name": "stderr",
     "output_type": "stream",
     "text": [
      "Some weights of RobertaModel were not initialized from the model checkpoint at roberta-base and are newly initialized: ['roberta.pooler.dense.bias', 'roberta.pooler.dense.weight']\n",
      "You should probably TRAIN this model on a down-stream task to be able to use it for predictions and inference.\n"
     ]
    }
   ],
   "source": [
    "from transformers import RobertaTokenizer, RobertaModel\n",
    "import torch\n",
    "\n",
    "# Load pre-trained RoBERTa\n",
    "tokenizer = RobertaTokenizer.from_pretrained(\"roberta-base\")\n",
    "model = RobertaModel.from_pretrained(\"roberta-base\")\n",
    "\n",
    "# Tokenize input\n",
    "inputs = tokenizer(input_text, return_tensors=\"pt\", truncation=True)\n",
    "\n",
    "# Get embeddings\n",
    "with torch.no_grad():\n",
    "    outputs = model(**inputs)\n",
    "\n",
    "# Extract the embedding for each token\n",
    "embeddings = outputs.last_hidden_state\n"
   ]
  },
  {
   "cell_type": "code",
   "execution_count": 30,
   "metadata": {},
   "outputs": [
    {
     "name": "stdout",
     "output_type": "stream",
     "text": [
      "None\n"
     ]
    }
   ],
   "source": [
    "import re\n",
    "\n",
    "def extract_numeric_values(text_list):\n",
    "    candidates = []\n",
    "    for text in text_list:\n",
    "        match = re.search(r\"(\\d+(\\.\\d+)?)([a-zA-Z]*)\", text)\n",
    "        if match:\n",
    "            value, _, unit = match.groups()\n",
    "            candidates.append((float(value), unit))\n",
    "    return candidates\n",
    "\n",
    "candidates = extract_numeric_values(extracted_texts)\n",
    "\n",
    "# Filter candidates based on entity_unit_map\n",
    "def get_best_match(candidates, entity_label, entity_unit_map):\n",
    "    valid_units = entity_unit_map.get(entity_label, set())\n",
    "    for value, unit in candidates:\n",
    "        if unit.lower() in valid_units:\n",
    "            return f\"{value} {unit.lower()}\"\n",
    "    return None\n",
    "\n",
    "predicted_entity = get_best_match(candidates, entity_label, entity_unit_map)\n",
    "print(predicted_entity)  \n"
   ]
  },
  {
   "cell_type": "code",
   "execution_count": 31,
   "metadata": {},
   "outputs": [],
   "source": [
    "from transformers import AutoModelForQuestionAnswering, AutoTokenizer, pipeline\n",
    "\n",
    "model_name = \"deepset/roberta-base-squad2\"\n",
    "\n",
    "# a) Get predictions\n",
    "nlp = pipeline('question-answering', model=model_name, tokenizer=model_name, device = -1)"
   ]
  },
  {
   "cell_type": "code",
   "execution_count": 32,
   "metadata": {},
   "outputs": [],
   "source": [
    "question = \"what is the \" + random_sample['entity_name'].iloc[num] + \"?\""
   ]
  },
  {
   "cell_type": "code",
   "execution_count": 33,
   "metadata": {},
   "outputs": [],
   "source": [
    "def convert_units(text):\n",
    "    # Dictionary to map abbreviations and unit names to full forms\n",
    "    unit_map = {\n",
    "        # Width, depth, height\n",
    "        'cm': 'centimetre',\n",
    "        'ft': 'foot',\n",
    "        'in': 'inch',\n",
    "        'm': 'metre',\n",
    "        'mm': 'millimetre',\n",
    "        'yd': 'yard',\n",
    "\n",
    "        # Item weight, max weight recommendation\n",
    "        'g': 'gram',\n",
    "        'kg': 'kilogram',\n",
    "        'mcg': 'microgram',\n",
    "        'mg': 'milligram',\n",
    "        'oz': 'ounce',\n",
    "        'lb': 'pound',\n",
    "        'ton': 'ton',\n",
    "\n",
    "        # Voltage\n",
    "        'kv': 'kilovolt',\n",
    "        'mv': 'millivolt',\n",
    "        'v': 'volt',\n",
    "\n",
    "        # Wattage\n",
    "        'kw': 'kilowatt',\n",
    "        'w': 'watt',\n",
    "\n",
    "        # Item volume\n",
    "        'cl': 'centilitre',\n",
    "        'cuft': 'cubic foot',\n",
    "        'cuin': 'cubic inch',\n",
    "        'cup': 'cup',\n",
    "        'dl': 'decilitre',\n",
    "        'floz': 'fluid ounce',\n",
    "        'gal': 'gallon',\n",
    "        'igal': 'imperial gallon',\n",
    "        'l': 'litre',\n",
    "        'ml': 'millilitre',\n",
    "        'ul': 'microlitre',\n",
    "        'pt': 'pint',\n",
    "        'qt': 'quart'\n",
    "    }\n",
    "\n",
    "    # Regular expression to match number (integer or decimal) followed by a unit\n",
    "    pattern = r'(\\d+(?:\\.\\d+)?)(\\s?)([a-zA-Z]+)'\n",
    "\n",
    "    def replace_unit(match):\n",
    "        # Convert the value to float and the unit abbreviation to full form\n",
    "        value = float(match.group(1))\n",
    "        unit = match.group(3).lower()\n",
    "        full_unit = unit_map.get(unit, unit)  # Use the abbreviation if not found\n",
    "        return f'{value} {full_unit}'\n",
    "\n",
    "    # Substitute the matches with full forms\n",
    "    return re.sub(pattern, replace_unit, text)\n"
   ]
  },
  {
   "cell_type": "code",
   "execution_count": null,
   "metadata": {},
   "outputs": [],
   "source": [
    "\n",
    "# roberta\n",
    "QA_input = {\n",
    "  'question': question,\n",
    "  'context': input_text\n",
    "}\n",
    "res2 = nlp(QA_input)\n",
    "\n",
    "model = AutoModelForQuestionAnswering.from_pretrained(model_name)\n",
    "tokenizer = AutoTokenizer.from_pretrained(model_name)\n",
    "\n",
    "\n",
    "text = res2['answer']\n",
    "print(res2)\n",
    "converted_text = convert_units(text)\n",
    "\n",
    "\n",
    "# print(train.iloc[i,:])\n",
    "# print(\"\")\n",
    "# print(res2['answer'])\n",
    "# print(converted_text)\n",
    "# print(\"\")\n",
    "#output_df['context'][i] = res1\n"
   ]
  },
  {
   "cell_type": "code",
   "execution_count": 35,
   "metadata": {},
   "outputs": [
    {
     "data": {
      "text/plain": [
       "'35cm 0.65KG 13.65inch'"
      ]
     },
     "execution_count": 35,
     "metadata": {},
     "output_type": "execute_result"
    }
   ],
   "source": [
    "\n",
    "# a) Get predictions\n",
    "nlp = pipeline('question-answering', model=model_name, tokenizer=model_name)\n",
    "\n",
    "QA_input = {\n",
    "  'question': question,\n",
    "  'context': input_text\n",
    "}\n",
    "res2 = nlp(QA_input)\n",
    "\n",
    "model = AutoModelForQuestionAnswering.from_pretrained(model_name)\n",
    "tokenizer = AutoTokenizer.from_pretrained(model_name)\n",
    "\n",
    "res2['answer']"
   ]
  },
  {
   "cell_type": "code",
   "execution_count": null,
   "metadata": {},
   "outputs": [],
   "source": []
  }
 ],
 "metadata": {
  "kernelspec": {
   "display_name": "Python 3",
   "language": "python",
   "name": "python3"
  },
  "language_info": {
   "codemirror_mode": {
    "name": "ipython",
    "version": 3
   },
   "file_extension": ".py",
   "mimetype": "text/x-python",
   "name": "python",
   "nbconvert_exporter": "python",
   "pygments_lexer": "ipython3",
   "version": "3.11.4"
  }
 },
 "nbformat": 4,
 "nbformat_minor": 2
}
